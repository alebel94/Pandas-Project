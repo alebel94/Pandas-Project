{
 "cells": [
  {
   "cell_type": "markdown",
   "metadata": {},
   "source": [
    "# NBA All-Star Weekend Challenge\n",
    "\n",
    "Your task...answer the following questions given the dataset given about the NBA All-Star Game from the year 2000 - 2016\n",
    "\n",
    "Become more familiar with the dataset <a href=\"https://www.kaggle.com/fmejia21/nba-all-star-game-20002016\">here</a>\n",
    "\n",
    "Once completed, commit this notebook to github and submit the link to the google classroom assignment.\n",
    "\n",
    "<a href=\"https://classroom.google.com/u/2/c/NDc4MzEzMjI5Nzla/a/NTE3OTYxNzM2OTNa/details\">Google Classroom</a>"
   ]
  },
  {
   "cell_type": "code",
   "execution_count": 45,
   "metadata": {},
   "outputs": [],
   "source": [
    "import pandas as pd\n",
    "import numpy as np\n",
    "import matplotlib.pyplot as plt\n",
    "# import requests"
   ]
  },
  {
   "cell_type": "code",
   "execution_count": 254,
   "metadata": {
    "scrolled": false
   },
   "outputs": [],
   "source": [
    "all_stars = pd.read_csv('../files/NBA All Stars 2000-2016 - Sheet1.csv')"
   ]
  },
  {
   "cell_type": "code",
   "execution_count": 47,
   "metadata": {},
   "outputs": [
    {
     "name": "stdout",
     "output_type": "stream",
     "text": [
      "   Year         Player Pos    HT   WT                   Team  \\\n",
      "0  2016  Stephen Curry   G   6-3  190  Golden State Warriors   \n",
      "1  2016   James Harden  SG   6-5  220        Houston Rockets   \n",
      "2  2016   Kevin Durant  SF   6-9  240  Golden State Warriors   \n",
      "3  2016  Kawhi Leonard   F   6-7  230      San Antonio Spurs   \n",
      "4  2016  Anthony Davis  PF  6-11  253   New Orleans Pelicans   \n",
      "\n",
      "                        Selection Type    NBA Draft Status    Nationality  \n",
      "0  Western All-Star Fan Vote Selection   2009 Rnd 1 Pick 7  United States  \n",
      "1  Western All-Star Fan Vote Selection   2009 Rnd 1 Pick 3  United States  \n",
      "2  Western All-Star Fan Vote Selection   2007 Rnd 1 Pick 2  United States  \n",
      "3  Western All-Star Fan Vote Selection  2011 Rnd 1 Pick 15  United States  \n",
      "4  Western All-Star Fan Vote Selection   2012 Rnd 1 Pick 1  United States  \n",
      "\n",
      "\n",
      "\n",
      "\n",
      "\n",
      " Index(['Year', 'Player', 'Pos', 'HT', 'WT', 'Team', 'Selection Type',\n",
      "       'NBA Draft Status', 'Nationality'],\n",
      "      dtype='object')\n"
     ]
    }
   ],
   "source": [
    "print(all_stars.head(5))\n",
    "print('\\n\\n\\n\\n\\n', all_stars.keys())"
   ]
  },
  {
   "cell_type": "code",
   "execution_count": 48,
   "metadata": {},
   "outputs": [
    {
     "name": "stdout",
     "output_type": "stream",
     "text": [
      "C:\\Users\\alebe\\.jupyter\n",
      "C:\\Users\\alebe\\.jupyter\\custom\\custom.js\n",
      "You don't have a custom.js file\n"
     ]
    }
   ],
   "source": [
    "from jupyter_core.paths import jupyter_config_dir\n",
    "jupyter_dir = jupyter_config_dir()\n",
    "print(jupyter_dir)\n",
    "\n",
    "import os.path\n",
    "custom_js_path = os.path.join(jupyter_dir, 'custom', 'custom.js')\n",
    "print(custom_js_path)\n",
    "\n",
    "if os.path.isfile(custom_js_path):\n",
    "    with open(custom_js_path) as f:\n",
    "        print(f.read())\n",
    "else:\n",
    "    print(\"You don't have a custom.js file\")"
   ]
  },
  {
   "cell_type": "markdown",
   "metadata": {},
   "source": [
    "# What is the average weight of all players who played during this time?"
   ]
  },
  {
   "cell_type": "code",
   "execution_count": 49,
   "metadata": {},
   "outputs": [
    {
     "name": "stdout",
     "output_type": "stream",
     "text": [
      "              WT\n",
      "Year            \n",
      "2000  228.928571\n",
      "2001  229.153846\n",
      "2002  231.200000\n",
      "2003  233.375000\n",
      "2004  231.833333\n",
      "2005  228.640000\n",
      "2006  229.655172\n",
      "2007  228.576923\n",
      "2008  228.961538\n",
      "2009  225.964286\n",
      "2010  231.400000\n",
      "2011  227.320000\n",
      "2012  227.600000\n",
      "2013  227.840000\n",
      "2014  226.214286\n",
      "2015  227.346154\n",
      "2016  225.458333 \n",
      "\n",
      "\n",
      "Mean weight fora ll years all player:\n",
      "\n",
      "WT    228.792203\n",
      "dtype: float64\n"
     ]
    }
   ],
   "source": [
    "all_stars_years_mean_wt = all_stars # duplicate df to avoid refreshing all_stars df\n",
    "all_stars_years_mean_wt = all_stars_years_mean_wt.groupby('Year').mean('WT') # Group by year and find mean of 'WT'\n",
    "all_stars_mean_wt = all_stars_years_mean_wt.mean() # total mean of all years\n",
    "print(all_stars_years_mean_wt, f'\\n\\n\\nMean weight fora ll years all player:\\n\\n{all_stars_mean_wt}')"
   ]
  },
  {
   "cell_type": "markdown",
   "metadata": {},
   "source": [
    "# What team is represented the most during this time?"
   ]
  },
  {
   "cell_type": "code",
   "execution_count": 50,
   "metadata": {},
   "outputs": [
    {
     "name": "stdout",
     "output_type": "stream",
     "text": [
      "The team represented the most by number of players in combined years:\n",
      "\n",
      "            Player\n",
      "Team              \n",
      "Miami Heat      28\n"
     ]
    }
   ],
   "source": [
    "#all players not unique, gives only max value based on location not all max values if there are more than 1\n",
    "\n",
    "all_stars_teams_count = all_stars # duplicate df to avoid refreshing all_stars df\n",
    "all_stars_teams_count = all_stars_teams_count.groupby('Team').count()[['Player']] # Group by team an count players including repeated years\n",
    "all_stars_teams_count_sorted = all_stars_teams_count.sort_values(by = 'Player', ascending=False) # sort highest to lowest players\n",
    "all_starts_most_represented = all_stars_teams_count_sorted.loc[all_stars_teams_count_sorted[['Player']].idxmax()] # show first row of the top of list... Does not show more than one row even if same max players \n",
    "\n",
    "print(f'The team represented the most by number of players in combined years:\\n\\n{all_starts_most_represented}')"
   ]
  },
  {
   "cell_type": "code",
   "execution_count": 51,
   "metadata": {},
   "outputs": [
    {
     "name": "stdout",
     "output_type": "stream",
     "text": [
      "The team represented the most by number of unique players in combined years:\n",
      "\n",
      "                   Player\n",
      "Team                     \n",
      "San Antonio Spurs       6\n",
      "Boston Celtics          6\n"
     ]
    }
   ],
   "source": [
    "#Finding unique values while printing all that are max \n",
    "all_stars_teams_count_no_dup = all_stars # duplicate df to avoid refreshing all_stars df\n",
    "all_stars_teams_count_no_dup = all_stars_teams_count_no_dup.drop_duplicates('Player') # drop duplicate player rows\n",
    "all_stars_teams_count = all_stars_teams_count_no_dup.groupby('Team').count()[['Player']] # Group by team an count by unique players\n",
    "all_stars_teams_count_sorted = all_stars_teams_count.sort_values(by = 'Player', ascending=False) # sort highest to lowest players\n",
    "all_starts_most_represented = all_stars_teams_count_sorted[all_stars_teams_count_sorted['Player'] == all_stars_teams_count_sorted['Player'].max()] # shows any rows with the max number of players\n",
    "\n",
    "print(f'The team represented the most by number of unique players in combined years:\\n\\n{all_starts_most_represented}')"
   ]
  },
  {
   "cell_type": "markdown",
   "metadata": {},
   "source": [
    "# What draft class is represeted the most during this time?"
   ]
  },
  {
   "cell_type": "code",
   "execution_count": 152,
   "metadata": {},
   "outputs": [
    {
     "name": "stdout",
     "output_type": "stream",
     "text": [
      "The year drafted or drafted class represented the most by number of unique players:\n",
      "\n",
      "                 Player\n",
      "NBA Draft Class        \n",
      "1996                 11\n"
     ]
    }
   ],
   "source": [
    "#Create new row of draft class year and find highest players in class\n",
    "\n",
    "all_stars_class = all_stars # duplicate df to avoid refreshing all_stars df\n",
    "all_stars_class['NBA Draft Class'] = all_stars_class.loc[: , 'NBA Draft Status'].str[0:4] # creates new row with the first four indeces of the string in the cells for row 'NBA Draft Status'\n",
    "all_stars_class_count_no_dup = all_stars_class.drop_duplicates('Player') # drop duplicate players\n",
    "all_stars_class_count = all_stars_class_count_no_dup.groupby('NBA Draft Class').count()[['Player']] # group by created 'NBA Draft Class' and count of unique players\n",
    "all_stars_class_count_sorted = all_stars_class_count.sort_values(by = 'Player', ascending=False) # sort highest to lowest players\n",
    "all_stars_most_represented = all_stars_class_count_sorted[all_stars_class_count_sorted['Player'] == all_stars_class_count_sorted['Player'].max()] # shows any rows with the max number of players\n",
    "\n",
    "print(f'The year drafted or drafted class represented the most by number of unique players:\\n\\n{all_stars_most_represented}')"
   ]
  },
  {
   "cell_type": "markdown",
   "metadata": {},
   "source": [
    "# Are foriegn players more prevalent in the All-Star Game during this time?"
   ]
  },
  {
   "cell_type": "code",
   "execution_count": 293,
   "metadata": {},
   "outputs": [
    {
     "data": {
      "text/html": [
       "<div>\n",
       "<style scoped>\n",
       "    .dataframe tbody tr th:only-of-type {\n",
       "        vertical-align: middle;\n",
       "    }\n",
       "\n",
       "    .dataframe tbody tr th {\n",
       "        vertical-align: top;\n",
       "    }\n",
       "\n",
       "    .dataframe thead th {\n",
       "        text-align: right;\n",
       "    }\n",
       "</style>\n",
       "<table border=\"1\" class=\"dataframe\">\n",
       "  <thead>\n",
       "    <tr style=\"text-align: right;\">\n",
       "      <th></th>\n",
       "      <th>Year</th>\n",
       "      <th>Foreign Player</th>\n",
       "      <th>Player</th>\n",
       "    </tr>\n",
       "  </thead>\n",
       "  <tbody>\n",
       "    <tr>\n",
       "      <th>0</th>\n",
       "      <td>2000</td>\n",
       "      <td>False</td>\n",
       "      <td>26</td>\n",
       "    </tr>\n",
       "    <tr>\n",
       "      <th>1</th>\n",
       "      <td>2000</td>\n",
       "      <td>True</td>\n",
       "      <td>2</td>\n",
       "    </tr>\n",
       "    <tr>\n",
       "      <th>2</th>\n",
       "      <td>2001</td>\n",
       "      <td>False</td>\n",
       "      <td>21</td>\n",
       "    </tr>\n",
       "    <tr>\n",
       "      <th>3</th>\n",
       "      <td>2001</td>\n",
       "      <td>True</td>\n",
       "      <td>5</td>\n",
       "    </tr>\n",
       "    <tr>\n",
       "      <th>4</th>\n",
       "      <td>2002</td>\n",
       "      <td>False</td>\n",
       "      <td>20</td>\n",
       "    </tr>\n",
       "  </tbody>\n",
       "</table>\n",
       "</div>"
      ],
      "text/plain": [
       "   Year  Foreign Player  Player\n",
       "0  2000           False      26\n",
       "1  2000            True       2\n",
       "2  2001           False      21\n",
       "3  2001            True       5\n",
       "4  2002           False      20"
      ]
     },
     "execution_count": 293,
     "metadata": {},
     "output_type": "execute_result"
    }
   ],
   "source": [
    "all_stars_foreign = all_stars # duplicate df to avoid refreshing all_stars df\n",
    "\n",
    "# user Defined function for foreign player\n",
    "def is_foreign(nationality):\n",
    "    if nationality == 'United States':\n",
    "        return False\n",
    "    else:\n",
    "        return True\n",
    "    \n",
    "all_stars_foreign['Foreign Player'] = all_stars_foreign['Nationality'].apply(is_foreign) # New column to identify foreign players\n",
    "all_stars_foreign_groups = all_stars_foreign.groupby(['Year','Foreign Player']).count()[['Player']]\n",
    "all_stars_foreign_bool = all_stars_foreign_groups.reset_index(level = [0,1] ) # reset multi index to single index without usinf .unstack()\n",
    "\n",
    "\n",
    "'''\n",
    "MultiIndex([('Player', False),\n",
    "            ('Player',  True)],\n",
    "           names=[None, 'Foreign Player'])\n",
    "'''\n",
    "all_stars_foreign_bool.head(5)"
   ]
  },
  {
   "cell_type": "code",
   "execution_count": 294,
   "metadata": {},
   "outputs": [
    {
     "ename": "SyntaxError",
     "evalue": "invalid syntax (<ipython-input-294-444f2d48c579>, line 1)",
     "output_type": "error",
     "traceback": [
      "\u001b[1;36m  File \u001b[1;32m\"<ipython-input-294-444f2d48c579>\"\u001b[1;36m, line \u001b[1;32m1\u001b[0m\n\u001b[1;33m    all_stars_foreign_groups['Percent Foreign'] = (all_stars_foreign_groups[['Foreign Player']= False] / (all_stars_foreign_groups[['Foreign Player']= False] + all_stars_foreign_groups[['Foreign Player']= True]))\u001b[0m\n\u001b[1;37m                                                                                              ^\u001b[0m\n\u001b[1;31mSyntaxError\u001b[0m\u001b[1;31m:\u001b[0m invalid syntax\n"
     ]
    }
   ],
   "source": []
  },
  {
   "cell_type": "code",
   "execution_count": 287,
   "metadata": {},
   "outputs": [
    {
     "ename": "KeyError",
     "evalue": "'Year'",
     "output_type": "error",
     "traceback": [
      "\u001b[1;31m---------------------------------------------------------------------------\u001b[0m",
      "\u001b[1;31mKeyError\u001b[0m                                  Traceback (most recent call last)",
      "\u001b[1;32m~\\anaconda3\\lib\\site-packages\\pandas\\core\\indexes\\base.py\u001b[0m in \u001b[0;36mget_loc\u001b[1;34m(self, key, method, tolerance)\u001b[0m\n\u001b[0;32m   2894\u001b[0m             \u001b[1;32mtry\u001b[0m\u001b[1;33m:\u001b[0m\u001b[1;33m\u001b[0m\u001b[1;33m\u001b[0m\u001b[0m\n\u001b[1;32m-> 2895\u001b[1;33m                 \u001b[1;32mreturn\u001b[0m \u001b[0mself\u001b[0m\u001b[1;33m.\u001b[0m\u001b[0m_engine\u001b[0m\u001b[1;33m.\u001b[0m\u001b[0mget_loc\u001b[0m\u001b[1;33m(\u001b[0m\u001b[0mcasted_key\u001b[0m\u001b[1;33m)\u001b[0m\u001b[1;33m\u001b[0m\u001b[1;33m\u001b[0m\u001b[0m\n\u001b[0m\u001b[0;32m   2896\u001b[0m             \u001b[1;32mexcept\u001b[0m \u001b[0mKeyError\u001b[0m \u001b[1;32mas\u001b[0m \u001b[0merr\u001b[0m\u001b[1;33m:\u001b[0m\u001b[1;33m\u001b[0m\u001b[1;33m\u001b[0m\u001b[0m\n",
      "\u001b[1;32mpandas\\_libs\\index.pyx\u001b[0m in \u001b[0;36mpandas._libs.index.IndexEngine.get_loc\u001b[1;34m()\u001b[0m\n",
      "\u001b[1;32mpandas\\_libs\\index.pyx\u001b[0m in \u001b[0;36mpandas._libs.index.IndexEngine.get_loc\u001b[1;34m()\u001b[0m\n",
      "\u001b[1;32mpandas\\_libs\\hashtable_class_helper.pxi\u001b[0m in \u001b[0;36mpandas._libs.hashtable.PyObjectHashTable.get_item\u001b[1;34m()\u001b[0m\n",
      "\u001b[1;32mpandas\\_libs\\hashtable_class_helper.pxi\u001b[0m in \u001b[0;36mpandas._libs.hashtable.PyObjectHashTable.get_item\u001b[1;34m()\u001b[0m\n",
      "\u001b[1;31mKeyError\u001b[0m: 'Year'",
      "\nThe above exception was the direct cause of the following exception:\n",
      "\u001b[1;31mKeyError\u001b[0m                                  Traceback (most recent call last)",
      "\u001b[1;32m<ipython-input-287-1e01b69fb362>\u001b[0m in \u001b[0;36m<module>\u001b[1;34m\u001b[0m\n\u001b[0;32m      1\u001b[0m \u001b[0mdf\u001b[0m \u001b[1;33m=\u001b[0m \u001b[0mall_stars_foreign_groups\u001b[0m\u001b[1;33m\u001b[0m\u001b[1;33m\u001b[0m\u001b[0m\n\u001b[1;32m----> 2\u001b[1;33m \u001b[0mplt\u001b[0m\u001b[1;33m.\u001b[0m\u001b[0mplot\u001b[0m\u001b[1;33m(\u001b[0m\u001b[0mall_stars_foreign_groups\u001b[0m\u001b[1;33m[\u001b[0m\u001b[1;34m'Year'\u001b[0m\u001b[1;33m]\u001b[0m\u001b[1;33m,\u001b[0m \u001b[0mall_stars_foreign_groups\u001b[0m\u001b[1;33m[\u001b[0m\u001b[1;34m'player'\u001b[0m\u001b[1;33m]\u001b[0m\u001b[1;33m)\u001b[0m\u001b[1;33m\u001b[0m\u001b[1;33m\u001b[0m\u001b[0m\n\u001b[0m",
      "\u001b[1;32m~\\anaconda3\\lib\\site-packages\\pandas\\core\\frame.py\u001b[0m in \u001b[0;36m__getitem__\u001b[1;34m(self, key)\u001b[0m\n\u001b[0;32m   2900\u001b[0m             \u001b[1;32mif\u001b[0m \u001b[0mself\u001b[0m\u001b[1;33m.\u001b[0m\u001b[0mcolumns\u001b[0m\u001b[1;33m.\u001b[0m\u001b[0mnlevels\u001b[0m \u001b[1;33m>\u001b[0m \u001b[1;36m1\u001b[0m\u001b[1;33m:\u001b[0m\u001b[1;33m\u001b[0m\u001b[1;33m\u001b[0m\u001b[0m\n\u001b[0;32m   2901\u001b[0m                 \u001b[1;32mreturn\u001b[0m \u001b[0mself\u001b[0m\u001b[1;33m.\u001b[0m\u001b[0m_getitem_multilevel\u001b[0m\u001b[1;33m(\u001b[0m\u001b[0mkey\u001b[0m\u001b[1;33m)\u001b[0m\u001b[1;33m\u001b[0m\u001b[1;33m\u001b[0m\u001b[0m\n\u001b[1;32m-> 2902\u001b[1;33m             \u001b[0mindexer\u001b[0m \u001b[1;33m=\u001b[0m \u001b[0mself\u001b[0m\u001b[1;33m.\u001b[0m\u001b[0mcolumns\u001b[0m\u001b[1;33m.\u001b[0m\u001b[0mget_loc\u001b[0m\u001b[1;33m(\u001b[0m\u001b[0mkey\u001b[0m\u001b[1;33m)\u001b[0m\u001b[1;33m\u001b[0m\u001b[1;33m\u001b[0m\u001b[0m\n\u001b[0m\u001b[0;32m   2903\u001b[0m             \u001b[1;32mif\u001b[0m \u001b[0mis_integer\u001b[0m\u001b[1;33m(\u001b[0m\u001b[0mindexer\u001b[0m\u001b[1;33m)\u001b[0m\u001b[1;33m:\u001b[0m\u001b[1;33m\u001b[0m\u001b[1;33m\u001b[0m\u001b[0m\n\u001b[0;32m   2904\u001b[0m                 \u001b[0mindexer\u001b[0m \u001b[1;33m=\u001b[0m \u001b[1;33m[\u001b[0m\u001b[0mindexer\u001b[0m\u001b[1;33m]\u001b[0m\u001b[1;33m\u001b[0m\u001b[1;33m\u001b[0m\u001b[0m\n",
      "\u001b[1;32m~\\anaconda3\\lib\\site-packages\\pandas\\core\\indexes\\base.py\u001b[0m in \u001b[0;36mget_loc\u001b[1;34m(self, key, method, tolerance)\u001b[0m\n\u001b[0;32m   2895\u001b[0m                 \u001b[1;32mreturn\u001b[0m \u001b[0mself\u001b[0m\u001b[1;33m.\u001b[0m\u001b[0m_engine\u001b[0m\u001b[1;33m.\u001b[0m\u001b[0mget_loc\u001b[0m\u001b[1;33m(\u001b[0m\u001b[0mcasted_key\u001b[0m\u001b[1;33m)\u001b[0m\u001b[1;33m\u001b[0m\u001b[1;33m\u001b[0m\u001b[0m\n\u001b[0;32m   2896\u001b[0m             \u001b[1;32mexcept\u001b[0m \u001b[0mKeyError\u001b[0m \u001b[1;32mas\u001b[0m \u001b[0merr\u001b[0m\u001b[1;33m:\u001b[0m\u001b[1;33m\u001b[0m\u001b[1;33m\u001b[0m\u001b[0m\n\u001b[1;32m-> 2897\u001b[1;33m                 \u001b[1;32mraise\u001b[0m \u001b[0mKeyError\u001b[0m\u001b[1;33m(\u001b[0m\u001b[0mkey\u001b[0m\u001b[1;33m)\u001b[0m \u001b[1;32mfrom\u001b[0m \u001b[0merr\u001b[0m\u001b[1;33m\u001b[0m\u001b[1;33m\u001b[0m\u001b[0m\n\u001b[0m\u001b[0;32m   2898\u001b[0m \u001b[1;33m\u001b[0m\u001b[0m\n\u001b[0;32m   2899\u001b[0m         \u001b[1;32mif\u001b[0m \u001b[0mtolerance\u001b[0m \u001b[1;32mis\u001b[0m \u001b[1;32mnot\u001b[0m \u001b[1;32mNone\u001b[0m\u001b[1;33m:\u001b[0m\u001b[1;33m\u001b[0m\u001b[1;33m\u001b[0m\u001b[0m\n",
      "\u001b[1;31mKeyError\u001b[0m: 'Year'"
     ]
    }
   ],
   "source": [
    "df = all_stars_foreign_groups\n",
    "plt.plot(all_stars_foreign_groups['Year'], all_stars_foreign_groups['player'])\n"
   ]
  },
  {
   "cell_type": "markdown",
   "metadata": {},
   "source": [
    "# How often are the Western All-Stars voted in by fans?"
   ]
  },
  {
   "cell_type": "code",
   "execution_count": null,
   "metadata": {},
   "outputs": [],
   "source": []
  },
  {
   "cell_type": "markdown",
   "metadata": {},
   "source": [
    "# How many times does Steph Curry make the All-Star game during this time period?"
   ]
  },
  {
   "cell_type": "code",
   "execution_count": null,
   "metadata": {},
   "outputs": [],
   "source": []
  },
  {
   "cell_type": "markdown",
   "metadata": {},
   "source": [
    "# How many Shooting Gaurds have made the All-Star game during this time?"
   ]
  },
  {
   "cell_type": "code",
   "execution_count": null,
   "metadata": {},
   "outputs": [],
   "source": []
  },
  {
   "cell_type": "markdown",
   "metadata": {},
   "source": [
    "# How many Chicago Bulls players have made the All-Star Game during this time period?"
   ]
  },
  {
   "cell_type": "code",
   "execution_count": null,
   "metadata": {},
   "outputs": [],
   "source": []
  }
 ],
 "metadata": {
  "kernelspec": {
   "display_name": "Python 3",
   "language": "python",
   "name": "python3"
  },
  "language_info": {
   "codemirror_mode": {
    "name": "ipython",
    "version": 3
   },
   "file_extension": ".py",
   "mimetype": "text/x-python",
   "name": "python",
   "nbconvert_exporter": "python",
   "pygments_lexer": "ipython3",
   "version": "3.8.5"
  }
 },
 "nbformat": 4,
 "nbformat_minor": 2
}

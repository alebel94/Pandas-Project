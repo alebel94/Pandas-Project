{
 "cells": [
  {
   "cell_type": "markdown",
   "metadata": {},
   "source": [
    "# NBA All-Star Weekend Challenge\n",
    "\n",
    "Your task...answer the following questions given the dataset given about the NBA All-Star Game from the year 2000 - 2016\n",
    "\n",
    "Become more familiar with the dataset <a href=\"https://www.kaggle.com/fmejia21/nba-all-star-game-20002016\">here</a>\n",
    "\n",
    "Once completed, commit this notebook to github and submit the link to the google classroom assignment.\n",
    "\n",
    "<a href=\"https://classroom.google.com/u/2/c/NDc4MzEzMjI5Nzla/a/NTE3OTYxNzM2OTNa/details\">Google Classroom</a>"
   ]
  },
  {
   "cell_type": "code",
   "execution_count": 2,
   "metadata": {},
   "outputs": [],
   "source": [
    "import pandas as pd\n",
    "import numpy as np\n",
    "import matplotlib.pyplot as plt\n",
    "# import requests"
   ]
  },
  {
   "cell_type": "code",
   "execution_count": 3,
   "metadata": {
    "scrolled": false
   },
   "outputs": [],
   "source": [
    "all_stars = pd.read_csv('../files/NBA All Stars 2000-2016 - Sheet1.csv')"
   ]
  },
  {
   "cell_type": "code",
   "execution_count": 4,
   "metadata": {},
   "outputs": [
    {
     "name": "stdout",
     "output_type": "stream",
     "text": [
      "   Year         Player Pos    HT   WT                   Team  \\\n",
      "0  2016  Stephen Curry   G   6-3  190  Golden State Warriors   \n",
      "1  2016   James Harden  SG   6-5  220        Houston Rockets   \n",
      "2  2016   Kevin Durant  SF   6-9  240  Golden State Warriors   \n",
      "3  2016  Kawhi Leonard   F   6-7  230      San Antonio Spurs   \n",
      "4  2016  Anthony Davis  PF  6-11  253   New Orleans Pelicans   \n",
      "\n",
      "                        Selection Type    NBA Draft Status    Nationality  \n",
      "0  Western All-Star Fan Vote Selection   2009 Rnd 1 Pick 7  United States  \n",
      "1  Western All-Star Fan Vote Selection   2009 Rnd 1 Pick 3  United States  \n",
      "2  Western All-Star Fan Vote Selection   2007 Rnd 1 Pick 2  United States  \n",
      "3  Western All-Star Fan Vote Selection  2011 Rnd 1 Pick 15  United States  \n",
      "4  Western All-Star Fan Vote Selection   2012 Rnd 1 Pick 1  United States  \n",
      "\n",
      "\n",
      "\n",
      "\n",
      "\n",
      " Index(['Year', 'Player', 'Pos', 'HT', 'WT', 'Team', 'Selection Type',\n",
      "       'NBA Draft Status', 'Nationality'],\n",
      "      dtype='object')\n"
     ]
    }
   ],
   "source": [
    "print(all_stars.head(5))\n",
    "print('\\n\\n\\n\\n\\n', all_stars.keys())"
   ]
  },
  {
   "cell_type": "code",
   "execution_count": 6,
   "metadata": {},
   "outputs": [
    {
     "name": "stdout",
     "output_type": "stream",
     "text": [
      "C:\\Users\\alebe\\.jupyter\n",
      "C:\\Users\\alebe\\.jupyter\\custom\\custom.js\n",
      "require([\"codemirror/keymap/sublime\", \"notebook/js/cell\", \"base/js/namespace\"],\n",
      "    function(sublime_keymap, cell, IPython) {\n",
      "        cell.Cell.options_default.cm_config.keyMap = 'sublime';\n",
      "        cell.Cell.options_default.cm_config.extraKeys[\"Ctrl-Enter\"] = function(cm) {}\n",
      "        var cells = IPython.notebook.get_cells();\n",
      "        for(var cl=0; cl< cells.length ; cl++){\n",
      "            cells[cl].code_mirror.setOption('keyMap', 'sublime');\n",
      "            cells[cl].code_mirror.setOption(\"extraKeys\", {\n",
      "                \"Ctrl-Enter\": function(cm) {}\n",
      "            });\n",
      "        }\n",
      "    } \n"
     ]
    }
   ],
   "source": [
    "from jupyter_core.paths import jupyter_config_dir\n",
    "jupyter_dir = jupyter_config_dir()\n",
    "print(jupyter_dir)\n",
    "\n",
    "import os.path\n",
    "custom_js_path = os.path.join(jupyter_dir, 'custom', 'custom.js')\n",
    "print(custom_js_path)\n",
    "\n",
    "if os.path.isfile(custom_js_path):\n",
    "    with open(custom_js_path) as f:\n",
    "        print(f.read())\n",
    "else:\n",
    "    print(\"You don't have a custom.js file\")"
   ]
  },
  {
   "cell_type": "markdown",
   "metadata": {},
   "source": [
    "# What is the average weight of all players who played during this time?"
   ]
  },
  {
   "cell_type": "code",
   "execution_count": 9,
   "metadata": {},
   "outputs": [
    {
     "name": "stdout",
     "output_type": "stream",
     "text": [
      "              WT\n",
      "Year            \n",
      "2000  228.928571\n",
      "2001  229.153846\n",
      "2002  231.200000\n",
      "2003  233.375000\n",
      "2004  231.833333\n",
      "2005  228.640000\n",
      "2006  229.655172\n",
      "2007  228.576923\n",
      "2008  228.961538\n",
      "2009  225.964286\n",
      "2010  231.400000\n",
      "2011  227.320000\n",
      "2012  227.600000\n",
      "2013  227.840000\n",
      "2014  226.214286\n",
      "2015  227.346154\n",
      "2016  225.458333 \n",
      "\n",
      "\n",
      "Mean weight fora ll years all player:\n",
      "\n",
      "WT    228.792203\n",
      "dtype: float64\n"
     ]
    }
   ],
   "source": [
    "all_stars_years_mean_wt = all_stars.groupby('Year').mean('WT')\n",
    "all_stars_mean_wt = all_stars_years_mean_wt.mean()\n",
    "print(all_stars_years_mean_wt, f'\\n\\n\\nMean weight fora ll years all player:\\n\\n{all_stars_mean_wt}')"
   ]
  },
  {
   "cell_type": "markdown",
   "metadata": {},
   "source": [
    "# What team is represented the most during this time?"
   ]
  },
  {
   "cell_type": "code",
   "execution_count": 69,
   "metadata": {},
   "outputs": [
    {
     "name": "stdout",
     "output_type": "stream",
     "text": [
      "The team represented the most by number of players in combined years:\n",
      "\n",
      "            Player\n",
      "Team              \n",
      "Miami Heat      28\n"
     ]
    }
   ],
   "source": [
    "#all players not unique, gives only max value based on location not all max values if there are more than 1\n",
    "\n",
    "all_stars_teams_count = all_stars.groupby('Team').count()[['Player']]\n",
    "all_stars_teams_count_sorted = all_stars_teams_count.sort_values(by = 'Player', ascending=False)\n",
    "all_starts_most_represented = all_stars_teams_count_sorted.loc[all_stars_teams_count_sorted[['Player']].idxmax()]\n",
    "\n",
    "print(f'The team represented the most by number of players in combined years:\\n\\n{all_starts_most_represented}')"
   ]
  },
  {
   "cell_type": "code",
   "execution_count": 67,
   "metadata": {},
   "outputs": [
    {
     "name": "stdout",
     "output_type": "stream",
     "text": [
      "The team represented the most by number of unique players in combined years:\n",
      "\n",
      "                   Player\n",
      "Team                     \n",
      "San Antonio Spurs       6\n",
      "Boston Celtics          6\n"
     ]
    }
   ],
   "source": [
    "#Finding unique values while printing all that are max \n",
    "\n",
    "all_stars_teams_count_no_dup = all_stars.drop_duplicates('Player')\n",
    "all_stars_teams_count = all_stars_teams_count_no_dup.groupby('Team').count()[['Player']]\n",
    "all_stars_teams_count_sorted = all_stars_teams_count.sort_values(by = 'Player', ascending=False)\n",
    "all_starts_most_represented = all_stars_teams_count_sorted[all_stars_teams_count_sorted['Player'] == all_stars_teams_count_sorted['Player'].max()]\n",
    "\n",
    "print(f'The team represented the most by number of unique players in combined years:\\n\\n{all_starts_most_represented}')"
   ]
  },
  {
   "cell_type": "markdown",
   "metadata": {},
   "source": [
    "# What draft class is represeted the most during this time?"
   ]
  },
  {
   "cell_type": "code",
   "execution_count": 50,
   "metadata": {},
   "outputs": [
    {
     "data": {
      "text/html": [
       "<div>\n",
       "<style scoped>\n",
       "    .dataframe tbody tr th:only-of-type {\n",
       "        vertical-align: middle;\n",
       "    }\n",
       "\n",
       "    .dataframe tbody tr th {\n",
       "        vertical-align: top;\n",
       "    }\n",
       "\n",
       "    .dataframe thead th {\n",
       "        text-align: right;\n",
       "    }\n",
       "</style>\n",
       "<table border=\"1\" class=\"dataframe\">\n",
       "  <thead>\n",
       "    <tr style=\"text-align: right;\">\n",
       "      <th></th>\n",
       "      <th>Player</th>\n",
       "    </tr>\n",
       "    <tr>\n",
       "      <th>Year</th>\n",
       "      <th></th>\n",
       "    </tr>\n",
       "  </thead>\n",
       "  <tbody>\n",
       "    <tr>\n",
       "      <th>2000</th>\n",
       "      <td>28</td>\n",
       "    </tr>\n",
       "    <tr>\n",
       "      <th>2001</th>\n",
       "      <td>26</td>\n",
       "    </tr>\n",
       "    <tr>\n",
       "      <th>2002</th>\n",
       "      <td>25</td>\n",
       "    </tr>\n",
       "    <tr>\n",
       "      <th>2003</th>\n",
       "      <td>24</td>\n",
       "    </tr>\n",
       "    <tr>\n",
       "      <th>2004</th>\n",
       "      <td>24</td>\n",
       "    </tr>\n",
       "    <tr>\n",
       "      <th>2005</th>\n",
       "      <td>25</td>\n",
       "    </tr>\n",
       "    <tr>\n",
       "      <th>2006</th>\n",
       "      <td>29</td>\n",
       "    </tr>\n",
       "    <tr>\n",
       "      <th>2007</th>\n",
       "      <td>26</td>\n",
       "    </tr>\n",
       "    <tr>\n",
       "      <th>2008</th>\n",
       "      <td>26</td>\n",
       "    </tr>\n",
       "    <tr>\n",
       "      <th>2009</th>\n",
       "      <td>28</td>\n",
       "    </tr>\n",
       "    <tr>\n",
       "      <th>2010</th>\n",
       "      <td>25</td>\n",
       "    </tr>\n",
       "    <tr>\n",
       "      <th>2011</th>\n",
       "      <td>25</td>\n",
       "    </tr>\n",
       "    <tr>\n",
       "      <th>2012</th>\n",
       "      <td>25</td>\n",
       "    </tr>\n",
       "    <tr>\n",
       "      <th>2013</th>\n",
       "      <td>25</td>\n",
       "    </tr>\n",
       "    <tr>\n",
       "      <th>2014</th>\n",
       "      <td>28</td>\n",
       "    </tr>\n",
       "    <tr>\n",
       "      <th>2015</th>\n",
       "      <td>26</td>\n",
       "    </tr>\n",
       "    <tr>\n",
       "      <th>2016</th>\n",
       "      <td>24</td>\n",
       "    </tr>\n",
       "  </tbody>\n",
       "</table>\n",
       "</div>"
      ],
      "text/plain": [
       "      Player\n",
       "Year        \n",
       "2000      28\n",
       "2001      26\n",
       "2002      25\n",
       "2003      24\n",
       "2004      24\n",
       "2005      25\n",
       "2006      29\n",
       "2007      26\n",
       "2008      26\n",
       "2009      28\n",
       "2010      25\n",
       "2011      25\n",
       "2012      25\n",
       "2013      25\n",
       "2014      28\n",
       "2015      26\n",
       "2016      24"
      ]
     },
     "execution_count": 50,
     "metadata": {},
     "output_type": "execute_result"
    }
   ],
   "source": [
    "#Finding unique values while printing all that are max \n",
    "\n",
    "all_stars_class_count_no_dup = all_stars.drop_duplicates('Player')\n",
    "all_stars_teams_count = all_stars_class_count_no_dup.groupby('Team').count()[['Player']]\n",
    "all_stars_teams_count_sorted = all_stars_teams_count.sort_values(by = 'Player', ascending=False)\n",
    "all_starts_most_represented = all_stars_teams_count_sorted[all_stars_teams_count_sorted['Player'] == all_stars_teams_count_sorted['Player'].max()]\n",
    "\n",
    "print(f'The team represented the most by number of unique players in combined years:\\n\\n{all_starts_most_represented}')"
   ]
  },
  {
   "cell_type": "markdown",
   "metadata": {},
   "source": [
    "# Are foriegn players more prevalent in the All-Star Game during this time?"
   ]
  },
  {
   "cell_type": "code",
   "execution_count": null,
   "metadata": {},
   "outputs": [],
   "source": []
  },
  {
   "cell_type": "markdown",
   "metadata": {},
   "source": [
    "# How often are the Western All-Stars voted in by fans?"
   ]
  },
  {
   "cell_type": "code",
   "execution_count": null,
   "metadata": {},
   "outputs": [],
   "source": []
  },
  {
   "cell_type": "markdown",
   "metadata": {},
   "source": [
    "# How many times does Steph Curry make the All-Star game during this time period?"
   ]
  },
  {
   "cell_type": "code",
   "execution_count": null,
   "metadata": {},
   "outputs": [],
   "source": []
  },
  {
   "cell_type": "markdown",
   "metadata": {},
   "source": [
    "# How many Shooting Gaurds have made the All-Star game during this time?"
   ]
  },
  {
   "cell_type": "code",
   "execution_count": null,
   "metadata": {},
   "outputs": [],
   "source": []
  },
  {
   "cell_type": "markdown",
   "metadata": {},
   "source": [
    "# How many Chicago Bulls players have made the All-Star Game during this time period?"
   ]
  },
  {
   "cell_type": "code",
   "execution_count": null,
   "metadata": {},
   "outputs": [],
   "source": []
  }
 ],
 "metadata": {
  "kernelspec": {
   "display_name": "Python 3",
   "language": "python",
   "name": "python3"
  },
  "language_info": {
   "codemirror_mode": {
    "name": "ipython",
    "version": 3
   },
   "file_extension": ".py",
   "mimetype": "text/x-python",
   "name": "python",
   "nbconvert_exporter": "python",
   "pygments_lexer": "ipython3",
   "version": "3.8.5"
  }
 },
 "nbformat": 4,
 "nbformat_minor": 2
}
